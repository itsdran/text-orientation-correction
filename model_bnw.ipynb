{
 "cells": [
  {
   "cell_type": "code",
   "execution_count": 1,
   "metadata": {},
   "outputs": [
    {
     "name": "stdout",
     "output_type": "stream",
     "text": [
      "Requirement already satisfied: opencv-python in c:\\users\\drflo\\miniconda3\\envs\\py310\\lib\\site-packages (4.11.0.86)\n",
      "Requirement already satisfied: numpy in c:\\users\\drflo\\miniconda3\\envs\\py310\\lib\\site-packages (1.26.4)\n",
      "Requirement already satisfied: keras in c:\\users\\drflo\\miniconda3\\envs\\py310\\lib\\site-packages (2.10.0)\n",
      "Requirement already satisfied: tensorflow in c:\\users\\drflo\\miniconda3\\envs\\py310\\lib\\site-packages (2.10.0)\n",
      "Requirement already satisfied: matplotlib in c:\\users\\drflo\\miniconda3\\envs\\py310\\lib\\site-packages (3.10.0)\n",
      "Requirement already satisfied: scipy in c:\\users\\drflo\\miniconda3\\envs\\py310\\lib\\site-packages (1.15.2)\n",
      "Requirement already satisfied: absl-py>=1.0.0 in c:\\users\\drflo\\miniconda3\\envs\\py310\\lib\\site-packages (from tensorflow) (2.1.0)\n",
      "Requirement already satisfied: astunparse>=1.6.0 in c:\\users\\drflo\\miniconda3\\envs\\py310\\lib\\site-packages (from tensorflow) (1.6.3)\n",
      "Requirement already satisfied: flatbuffers>=2.0 in c:\\users\\drflo\\miniconda3\\envs\\py310\\lib\\site-packages (from tensorflow) (25.2.10)\n",
      "Requirement already satisfied: gast<=0.4.0,>=0.2.1 in c:\\users\\drflo\\miniconda3\\envs\\py310\\lib\\site-packages (from tensorflow) (0.4.0)\n",
      "Requirement already satisfied: google-pasta>=0.1.1 in c:\\users\\drflo\\miniconda3\\envs\\py310\\lib\\site-packages (from tensorflow) (0.2.0)\n",
      "Requirement already satisfied: h5py>=2.9.0 in c:\\users\\drflo\\miniconda3\\envs\\py310\\lib\\site-packages (from tensorflow) (3.13.0)\n",
      "Requirement already satisfied: keras-preprocessing>=1.1.1 in c:\\users\\drflo\\miniconda3\\envs\\py310\\lib\\site-packages (from tensorflow) (1.1.2)\n",
      "Requirement already satisfied: libclang>=13.0.0 in c:\\users\\drflo\\miniconda3\\envs\\py310\\lib\\site-packages (from tensorflow) (18.1.1)\n",
      "Requirement already satisfied: opt-einsum>=2.3.2 in c:\\users\\drflo\\miniconda3\\envs\\py310\\lib\\site-packages (from tensorflow) (3.4.0)\n",
      "Requirement already satisfied: packaging in c:\\users\\drflo\\miniconda3\\envs\\py310\\lib\\site-packages (from tensorflow) (24.2)\n",
      "Requirement already satisfied: protobuf<3.20,>=3.9.2 in c:\\users\\drflo\\miniconda3\\envs\\py310\\lib\\site-packages (from tensorflow) (3.19.6)\n",
      "Requirement already satisfied: setuptools in c:\\users\\drflo\\miniconda3\\envs\\py310\\lib\\site-packages (from tensorflow) (75.8.0)\n",
      "Requirement already satisfied: six>=1.12.0 in c:\\users\\drflo\\miniconda3\\envs\\py310\\lib\\site-packages (from tensorflow) (1.17.0)\n",
      "Requirement already satisfied: termcolor>=1.1.0 in c:\\users\\drflo\\miniconda3\\envs\\py310\\lib\\site-packages (from tensorflow) (2.5.0)\n",
      "Requirement already satisfied: typing-extensions>=3.6.6 in c:\\users\\drflo\\miniconda3\\envs\\py310\\lib\\site-packages (from tensorflow) (4.12.2)\n",
      "Requirement already satisfied: wrapt>=1.11.0 in c:\\users\\drflo\\miniconda3\\envs\\py310\\lib\\site-packages (from tensorflow) (1.17.2)\n",
      "Requirement already satisfied: tensorflow-io-gcs-filesystem>=0.23.1 in c:\\users\\drflo\\miniconda3\\envs\\py310\\lib\\site-packages (from tensorflow) (0.31.0)\n",
      "Requirement already satisfied: grpcio<2.0,>=1.24.3 in c:\\users\\drflo\\miniconda3\\envs\\py310\\lib\\site-packages (from tensorflow) (1.70.0)\n",
      "Requirement already satisfied: tensorboard<2.11,>=2.10 in c:\\users\\drflo\\miniconda3\\envs\\py310\\lib\\site-packages (from tensorflow) (2.10.1)\n",
      "Requirement already satisfied: tensorflow-estimator<2.11,>=2.10.0 in c:\\users\\drflo\\miniconda3\\envs\\py310\\lib\\site-packages (from tensorflow) (2.10.0)\n",
      "Requirement already satisfied: contourpy>=1.0.1 in c:\\users\\drflo\\miniconda3\\envs\\py310\\lib\\site-packages (from matplotlib) (1.3.1)\n",
      "Requirement already satisfied: cycler>=0.10 in c:\\users\\drflo\\miniconda3\\envs\\py310\\lib\\site-packages (from matplotlib) (0.12.1)\n",
      "Requirement already satisfied: fonttools>=4.22.0 in c:\\users\\drflo\\miniconda3\\envs\\py310\\lib\\site-packages (from matplotlib) (4.56.0)\n",
      "Requirement already satisfied: kiwisolver>=1.3.1 in c:\\users\\drflo\\miniconda3\\envs\\py310\\lib\\site-packages (from matplotlib) (1.4.8)\n",
      "Requirement already satisfied: pillow>=8 in c:\\users\\drflo\\miniconda3\\envs\\py310\\lib\\site-packages (from matplotlib) (11.1.0)\n",
      "Requirement already satisfied: pyparsing>=2.3.1 in c:\\users\\drflo\\miniconda3\\envs\\py310\\lib\\site-packages (from matplotlib) (3.2.1)\n",
      "Requirement already satisfied: python-dateutil>=2.7 in c:\\users\\drflo\\miniconda3\\envs\\py310\\lib\\site-packages (from matplotlib) (2.9.0.post0)\n",
      "Requirement already satisfied: wheel<1.0,>=0.23.0 in c:\\users\\drflo\\miniconda3\\envs\\py310\\lib\\site-packages (from astunparse>=1.6.0->tensorflow) (0.45.1)\n",
      "Requirement already satisfied: google-auth<3,>=1.6.3 in c:\\users\\drflo\\miniconda3\\envs\\py310\\lib\\site-packages (from tensorboard<2.11,>=2.10->tensorflow) (2.38.0)\n",
      "Requirement already satisfied: google-auth-oauthlib<0.5,>=0.4.1 in c:\\users\\drflo\\miniconda3\\envs\\py310\\lib\\site-packages (from tensorboard<2.11,>=2.10->tensorflow) (0.4.6)\n",
      "Requirement already satisfied: markdown>=2.6.8 in c:\\users\\drflo\\miniconda3\\envs\\py310\\lib\\site-packages (from tensorboard<2.11,>=2.10->tensorflow) (3.7)\n",
      "Requirement already satisfied: requests<3,>=2.21.0 in c:\\users\\drflo\\miniconda3\\envs\\py310\\lib\\site-packages (from tensorboard<2.11,>=2.10->tensorflow) (2.32.3)\n",
      "Requirement already satisfied: tensorboard-data-server<0.7.0,>=0.6.0 in c:\\users\\drflo\\miniconda3\\envs\\py310\\lib\\site-packages (from tensorboard<2.11,>=2.10->tensorflow) (0.6.1)\n",
      "Requirement already satisfied: tensorboard-plugin-wit>=1.6.0 in c:\\users\\drflo\\miniconda3\\envs\\py310\\lib\\site-packages (from tensorboard<2.11,>=2.10->tensorflow) (1.8.1)\n",
      "Requirement already satisfied: werkzeug>=1.0.1 in c:\\users\\drflo\\miniconda3\\envs\\py310\\lib\\site-packages (from tensorboard<2.11,>=2.10->tensorflow) (3.1.3)\n",
      "Requirement already satisfied: cachetools<6.0,>=2.0.0 in c:\\users\\drflo\\miniconda3\\envs\\py310\\lib\\site-packages (from google-auth<3,>=1.6.3->tensorboard<2.11,>=2.10->tensorflow) (5.5.2)\n",
      "Requirement already satisfied: pyasn1-modules>=0.2.1 in c:\\users\\drflo\\miniconda3\\envs\\py310\\lib\\site-packages (from google-auth<3,>=1.6.3->tensorboard<2.11,>=2.10->tensorflow) (0.4.1)\n",
      "Requirement already satisfied: rsa<5,>=3.1.4 in c:\\users\\drflo\\miniconda3\\envs\\py310\\lib\\site-packages (from google-auth<3,>=1.6.3->tensorboard<2.11,>=2.10->tensorflow) (4.9)\n",
      "Requirement already satisfied: requests-oauthlib>=0.7.0 in c:\\users\\drflo\\miniconda3\\envs\\py310\\lib\\site-packages (from google-auth-oauthlib<0.5,>=0.4.1->tensorboard<2.11,>=2.10->tensorflow) (2.0.0)\n",
      "Requirement already satisfied: charset-normalizer<4,>=2 in c:\\users\\drflo\\miniconda3\\envs\\py310\\lib\\site-packages (from requests<3,>=2.21.0->tensorboard<2.11,>=2.10->tensorflow) (3.4.1)\n",
      "Requirement already satisfied: idna<4,>=2.5 in c:\\users\\drflo\\miniconda3\\envs\\py310\\lib\\site-packages (from requests<3,>=2.21.0->tensorboard<2.11,>=2.10->tensorflow) (3.10)\n",
      "Requirement already satisfied: urllib3<3,>=1.21.1 in c:\\users\\drflo\\miniconda3\\envs\\py310\\lib\\site-packages (from requests<3,>=2.21.0->tensorboard<2.11,>=2.10->tensorflow) (2.3.0)\n",
      "Requirement already satisfied: certifi>=2017.4.17 in c:\\users\\drflo\\miniconda3\\envs\\py310\\lib\\site-packages (from requests<3,>=2.21.0->tensorboard<2.11,>=2.10->tensorflow) (2025.1.31)\n",
      "Requirement already satisfied: MarkupSafe>=2.1.1 in c:\\users\\drflo\\miniconda3\\envs\\py310\\lib\\site-packages (from werkzeug>=1.0.1->tensorboard<2.11,>=2.10->tensorflow) (3.0.2)\n",
      "Requirement already satisfied: pyasn1<0.7.0,>=0.4.6 in c:\\users\\drflo\\miniconda3\\envs\\py310\\lib\\site-packages (from pyasn1-modules>=0.2.1->google-auth<3,>=1.6.3->tensorboard<2.11,>=2.10->tensorflow) (0.6.1)\n",
      "Requirement already satisfied: oauthlib>=3.0.0 in c:\\users\\drflo\\miniconda3\\envs\\py310\\lib\\site-packages (from requests-oauthlib>=0.7.0->google-auth-oauthlib<0.5,>=0.4.1->tensorboard<2.11,>=2.10->tensorflow) (3.2.2)\n"
     ]
    }
   ],
   "source": [
    "!pip install opencv-python numpy keras tensorflow matplotlib scipy"
   ]
  },
  {
   "cell_type": "code",
   "execution_count": 2,
   "metadata": {},
   "outputs": [
    {
     "name": "stdout",
     "output_type": "stream",
     "text": [
      "[PhysicalDevice(name='/physical_device:GPU:0', device_type='GPU')]\n",
      "✅ GPU detected: /physical_device:GPU:0\n"
     ]
    }
   ],
   "source": [
    "import os\n",
    "import numpy as np\n",
    "import matplotlib.pyplot as plt\n",
    "import cv2\n",
    "import tensorflow as tf\n",
    "from keras.models import Sequential\n",
    "from keras.layers import Conv2D, MaxPooling2D, Flatten, Dense, Dropout\n",
    "from keras.preprocessing.image import ImageDataGenerator\n",
    "from keras.callbacks import ReduceLROnPlateau, ModelCheckpoint\n",
    "from sklearn.model_selection import train_test_split\n",
    "import glob\n",
    "\n",
    "# Check for GPU availability\n",
    "gpus = tf.config.experimental.list_physical_devices('GPU')\n",
    "print (gpus)\n",
    "if gpus:\n",
    "    print(f\"✅ GPU detected: {gpus[0].name}\")\n",
    "    for gpu in gpus:\n",
    "        tf.config.experimental.set_memory_growth(gpu, True)\n",
    "else:\n",
    "    print(\"❌ No GPU detected. Running on CPU.\")\n",
    "\n",
    "# Parameters\n",
    "IMG_SIZE = 128\n",
    "BATCH_SIZE = 8\n",
    "EPOCHS = 11\n",
    "LEARNING_RATE = 0.001\n",
    "DATASET_PATH = 'dataset_bnw'"
   ]
  },
  {
   "cell_type": "code",
   "execution_count": 3,
   "metadata": {},
   "outputs": [],
   "source": [
    "# Function to preprocess images\n",
    "def preprocess_image(image_path):\n",
    "    img = cv2.imread(image_path)\n",
    "    img = cv2.resize(img, (IMG_SIZE, IMG_SIZE))\n",
    "    lab = cv2.cvtColor(img, cv2.COLOR_BGR2LAB)\n",
    "    l, a, b = cv2.split(lab)\n",
    "    clahe = cv2.createCLAHE(clipLimit=3.0, tileGridSize=(8, 8))\n",
    "    cl = clahe.apply(l)\n",
    "    enhanced_lab = cv2.merge((cl, a, b))\n",
    "    enhanced_img = cv2.cvtColor(enhanced_lab, cv2.COLOR_LAB2BGR)\n",
    "    gray_img = cv2.cvtColor(enhanced_img, cv2.COLOR_BGR2GRAY)\n",
    "    bgr_img = cv2.cvtColor(gray_img, cv2.COLOR_GRAY2BGR)\n",
    "    return bgr_img / 255.0"
   ]
  },
  {
   "cell_type": "code",
   "execution_count": 4,
   "metadata": {},
   "outputs": [],
   "source": [
    "# Function to load and preprocess dataset\n",
    "def load_dataset(dataset_path):\n",
    "    images, labels = [], []\n",
    "    angle_folders = sorted([f for f in os.listdir(dataset_path) if os.path.isdir(os.path.join(dataset_path, f))])\n",
    "    class_indices = {folder: i for i, folder in enumerate(angle_folders)}\n",
    "    \n",
    "    for angle_folder in angle_folders:\n",
    "        angle_path = os.path.join(dataset_path, angle_folder)\n",
    "        for image_file in glob.glob(os.path.join(angle_path, '*.*')):\n",
    "            images.append(preprocess_image(image_file))\n",
    "            labels.append(class_indices[angle_folder])\n",
    "    \n",
    "    return np.array(images), np.array(labels), class_indices"
   ]
  },
  {
   "cell_type": "code",
   "execution_count": 5,
   "metadata": {},
   "outputs": [
    {
     "name": "stdout",
     "output_type": "stream",
     "text": [
      "Loaded 2657 images across 15 angle classes\n"
     ]
    }
   ],
   "source": [
    "# Load dataset\n",
    "X, y, class_indices = load_dataset(DATASET_PATH)\n",
    "print(f\"Loaded {len(X)} images across {len(class_indices)} angle classes\")\n",
    "y_one_hot = tf.keras.utils.to_categorical(y, num_classes=len(class_indices))\n",
    "X_train, X_val, y_train, y_val = train_test_split(X, y_one_hot, test_size=0.2, random_state=42, stratify=y)"
   ]
  },
  {
   "cell_type": "code",
   "execution_count": 6,
   "metadata": {},
   "outputs": [],
   "source": [
    "# Data augmentation\n",
    "datagen = ImageDataGenerator(rotation_range=10, \n",
    "                             width_shift_range=0.1, \n",
    "                             height_shift_range=0.1, \n",
    "                             zoom_range=0.1)\n",
    "\n",
    "datagen.fit(X_train)"
   ]
  },
  {
   "cell_type": "code",
   "execution_count": null,
   "metadata": {},
   "outputs": [],
   "source": [
    "# Build the CNN model\n",
    "model = Sequential([\n",
    "    Conv2D(32, (3, 3), activation='relu', input_shape=(IMG_SIZE, IMG_SIZE, 3)),\n",
    "    MaxPooling2D((2, 2)),\n",
    "    Conv2D(64, (3, 3), activation='relu'),\n",
    "    MaxPooling2D((2, 2)),\n",
    "    Conv2D(128, (3, 3), activation='relu'),\n",
    "    MaxPooling2D((2, 2)),\n",
    "    Flatten(),\n",
    "    Dense(256, activation='relu'),\n",
    "    Dropout(0.5),\n",
    "    Dense(len(class_indices), activation='softmax')\n",
    "])"
   ]
  },
  {
   "cell_type": "code",
   "execution_count": 8,
   "metadata": {},
   "outputs": [],
   "source": [
    "# Compile the model\n",
    "model.compile(\n",
    "    optimizer=tf.keras.optimizers.Adam(learning_rate=LEARNING_RATE),\n",
    "    loss='categorical_crossentropy',\n",
    "    metrics=['accuracy']\n",
    ")"
   ]
  },
  {
   "cell_type": "code",
   "execution_count": 9,
   "metadata": {},
   "outputs": [],
   "source": [
    "# Define callbacks\n",
    "reduce_lr = ReduceLROnPlateau(\n",
    "    monitor='val_loss',\n",
    "    factor=0.2,\n",
    "    patience=2,\n",
    "    min_lr=0.00001\n",
    ")\n",
    "\n",
    "checkpoint = ModelCheckpoint(\n",
    "    'text_angle_model_best.h5',\n",
    "    monitor='val_accuracy',\n",
    "    save_best_only=True,\n",
    "    mode='max'\n",
    ")"
   ]
  },
  {
   "cell_type": "code",
   "execution_count": 10,
   "metadata": {},
   "outputs": [
    {
     "name": "stdout",
     "output_type": "stream",
     "text": [
      "Epoch 1/11\n",
      "266/266 [==============================] - 11s 27ms/step - loss: 2.5857 - accuracy: 0.1275 - val_loss: 1.5260 - val_accuracy: 0.3590 - lr: 0.0010\n",
      "Epoch 2/11\n",
      "266/266 [==============================] - 6s 24ms/step - loss: 1.4970 - accuracy: 0.4268 - val_loss: 0.5207 - val_accuracy: 0.7838 - lr: 0.0010\n",
      "Epoch 3/11\n",
      "266/266 [==============================] - 6s 24ms/step - loss: 0.9916 - accuracy: 0.6235 - val_loss: 0.3451 - val_accuracy: 0.9098 - lr: 0.0010\n",
      "Epoch 4/11\n",
      "266/266 [==============================] - 6s 23ms/step - loss: 0.7066 - accuracy: 0.7200 - val_loss: 0.2728 - val_accuracy: 0.9004 - lr: 0.0010\n",
      "Epoch 5/11\n",
      "266/266 [==============================] - 6s 24ms/step - loss: 0.6368 - accuracy: 0.7656 - val_loss: 0.1599 - val_accuracy: 0.9605 - lr: 0.0010\n",
      "Epoch 6/11\n",
      "266/266 [==============================] - 6s 23ms/step - loss: 0.5026 - accuracy: 0.8146 - val_loss: 0.1380 - val_accuracy: 0.9605 - lr: 0.0010\n",
      "Epoch 7/11\n",
      "266/266 [==============================] - 6s 23ms/step - loss: 0.4502 - accuracy: 0.8306 - val_loss: 0.1059 - val_accuracy: 0.9812 - lr: 0.0010\n",
      "Epoch 8/11\n",
      "266/266 [==============================] - 6s 23ms/step - loss: 0.4118 - accuracy: 0.8508 - val_loss: 0.1402 - val_accuracy: 0.9586 - lr: 0.0010\n",
      "Epoch 9/11\n",
      "266/266 [==============================] - 6s 23ms/step - loss: 0.3549 - accuracy: 0.8687 - val_loss: 0.0883 - val_accuracy: 0.9699 - lr: 0.0010\n",
      "Epoch 10/11\n",
      "266/266 [==============================] - 6s 23ms/step - loss: 0.3159 - accuracy: 0.8875 - val_loss: 0.0770 - val_accuracy: 0.9812 - lr: 0.0010\n",
      "Epoch 11/11\n",
      "266/266 [==============================] - 7s 24ms/step - loss: 0.3203 - accuracy: 0.8767 - val_loss: 0.0557 - val_accuracy: 0.9906 - lr: 0.0010\n"
     ]
    }
   ],
   "source": [
    "# Train the model\n",
    "history = model.fit(\n",
    "    datagen.flow(X_train, y_train, batch_size=BATCH_SIZE),\n",
    "    epochs=EPOCHS,\n",
    "    validation_data=(X_val, y_val),\n",
    "    callbacks=[reduce_lr, checkpoint]\n",
    ")\n"
   ]
  },
  {
   "cell_type": "code",
   "execution_count": 11,
   "metadata": {},
   "outputs": [
    {
     "name": "stdout",
     "output_type": "stream",
     "text": [
      "Validation Accuracy: 99.06%\n",
      "Accuracy: 88.75%\n"
     ]
    }
   ],
   "source": [
    "print(f\"Validation Accuracy: {max(history.history['val_accuracy']) * 100:.2f}%\")\n",
    "print(f\"Accuracy: {max(history.history['accuracy']) * 100:.2f}%\")"
   ]
  },
  {
   "cell_type": "code",
   "execution_count": 12,
   "metadata": {},
   "outputs": [],
   "source": [
    "# Save the final model\n",
    "model.save('angle_detector_model_bnw.h5')"
   ]
  },
  {
   "cell_type": "code",
   "execution_count": 13,
   "metadata": {},
   "outputs": [
    {
     "data": {
      "image/png": "[encoded data removed]",
      "text/plain": [
       "<Figure size 1200x400 with 2 Axes>"
      ]
     },
     "metadata": {},
     "output_type": "display_data"
    }
   ],
   "source": [
    "# Plot training results\n",
    "plt.figure(figsize=(12, 4))\n",
    "\n",
    "# Plot accuracy\n",
    "plt.subplot(1, 2, 1)\n",
    "plt.plot(history.history['accuracy'], label='Training Accuracy')\n",
    "plt.plot(history.history['val_accuracy'], label='Validation Accuracy')\n",
    "plt.title('Model Accuracy')\n",
    "plt.xlabel('Epoch')\n",
    "plt.ylabel('Accuracy')\n",
    "plt.legend()\n",
    "\n",
    "# Plot loss\n",
    "plt.subplot(1, 2, 2)\n",
    "plt.plot(history.history['loss'], label='Training Loss')\n",
    "plt.plot(history.history['val_loss'], label='Validation Loss')\n",
    "plt.title('Model Loss')\n",
    "plt.xlabel('Epoch')\n",
    "plt.ylabel('Loss')\n",
    "plt.legend()\n",
    "\n",
    "plt.tight_layout()\n",
    "plt.show()"
   ]
  },
  {
   "cell_type": "code",
   "execution_count": 14,
   "metadata": {},
   "outputs": [
    {
     "name": "stdout",
     "output_type": "stream",
     "text": [
      "Final learning rate: 0.0010000000474974513 / 1.0e-03\n"
     ]
    }
   ],
   "source": [
    "# Print final learning rate\n",
    "final_lr = tf.keras.backend.get_value(model.optimizer.lr)\n",
    "\n",
    "print(f\"Final learning rate: {tf.keras.backend.get_value(model.optimizer.lr)} / {final_lr:.1e}\")\n"
   ]
  },
  {
   "cell_type": "code",
   "execution_count": 15,
   "metadata": {},
   "outputs": [],
   "source": [
    "# Function to predict the angle from an image\n",
    "def predict_angle(image_path, model, class_indices):\n",
    "    # Preprocess the image\n",
    "    img = preprocess_image(image_path)\n",
    "    img = np.expand_dims(img, axis=0)\n",
    "        \n",
    "    # Make prediction\n",
    "    prediction = model.predict(img)[0]\n",
    "    predicted_class = np.argmax(prediction)\n",
    "    \n",
    "    # Get the angle from the class index\n",
    "    reverse_class_mapping = {v: k for k, v in class_indices.items()}\n",
    "    predicted_angle = reverse_class_mapping[predicted_class]\n",
    "    \n",
    "    return predicted_angle, prediction[predicted_class]"
   ]
  },
  {
   "cell_type": "code",
   "execution_count": 16,
   "metadata": {},
   "outputs": [
    {
     "name": "stdout",
     "output_type": "stream",
     "text": [
      "1/1 [==============================] - 0s 143ms/step\n",
      "Predicted angle: 025 with confidence: 0.62\n"
     ]
    }
   ],
   "source": [
    "test_image_path = 'C:/Users/drflo/Downloads/sample/1.jpg'\n",
    "predicted_angle, confidence = predict_angle(test_image_path, model, class_indices)\n",
    "print(f\"Predicted angle: {predicted_angle} with confidence: {confidence:.2f}\")"
   ]
  }
 ],
 "metadata": {
  "kernelspec": {
   "display_name": "Python 3",
   "language": "python",
   "name": "python3"
  },
  "language_info": {
   "codemirror_mode": {
    "name": "ipython",
    "version": 3
   },
   "file_extension": ".py",
   "mimetype": "text/x-python",
   "name": "python",
   "nbconvert_exporter": "python",
   "pygments_lexer": "ipython3",
   "version": "3.10.16"
  }
 },
 "nbformat": 4,
 "nbformat_minor": 2
}
